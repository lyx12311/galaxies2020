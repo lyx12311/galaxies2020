{
 "cells": [
  {
   "cell_type": "code",
   "execution_count": 12,
   "metadata": {},
   "outputs": [],
   "source": [
    "import os\n",
    "import astropy.units as u\n",
    "import matplotlib.pyplot as plt\n",
    "import numpy as np\n",
    "import gala.potential as gp\n",
    "from gala.units import galactic, solarsystem, dimensionless\n"
   ]
  },
  {
   "cell_type": "code",
   "execution_count": 14,
   "metadata": {},
   "outputs": [
    {
     "data": {
      "text/plain": [
       "<KeplerPotential: m=1.00 (AU,yr,solMass,rad)>"
      ]
     },
     "execution_count": 14,
     "metadata": {},
     "output_type": "execute_result"
    }
   ],
   "source": [
    "ptmass = gp.KeplerPotential(m=1.*u.Msun, units=solarsystem)\n",
    "ptmass"
   ]
  },
  {
   "cell_type": "code",
   "execution_count": 15,
   "metadata": {},
   "outputs": [
    {
     "data": {
      "text/plain": [
       "<KeplerPotential: m=1.00 (AU,yr,solMass,rad)>"
      ]
     },
     "execution_count": 15,
     "metadata": {},
     "output_type": "execute_result"
    }
   ],
   "source": [
    "gp.KeplerPotential(m=1047.6115*u.Mjup, units=solarsystem)"
   ]
  },
  {
   "cell_type": "code",
   "execution_count": 16,
   "metadata": {},
   "outputs": [
    {
     "data": {
      "text/plain": [
       "<KeplerPotential: m=1.00 (AU,yr,solMass,rad)>"
      ]
     },
     "execution_count": 16,
     "metadata": {},
     "output_type": "execute_result"
    }
   ],
   "source": [
    "gp.KeplerPotential(m=1., units=solarsystem)"
   ]
  },
  {
   "cell_type": "code",
   "execution_count": 17,
   "metadata": {},
   "outputs": [
    {
     "data": {
      "text/plain": [
       "<KeplerPotential: m=1.00 (dimensionless)>"
      ]
     },
     "execution_count": 17,
     "metadata": {},
     "output_type": "execute_result"
    }
   ],
   "source": [
    "gp.KeplerPotential(m=1., units=None)"
   ]
  },
  {
   "cell_type": "code",
   "execution_count": 18,
   "metadata": {},
   "outputs": [
    {
     "data": {
      "text/latex": [
       "$[-27.914402] \\; \\mathrm{\\frac{AU^{2}}{yr^{2}}}$"
      ],
      "text/plain": [
       "<Quantity [-27.91440236] AU2 / yr2>"
      ]
     },
     "execution_count": 18,
     "metadata": {},
     "output_type": "execute_result"
    }
   ],
   "source": [
    "ptmass.energy([1.,-1.,0.]*u.au)"
   ]
  },
  {
   "cell_type": "code",
   "execution_count": 19,
   "metadata": {},
   "outputs": [
    {
     "data": {
      "text/latex": [
       "$[-27.914402] \\; \\mathrm{\\frac{AU^{2}}{yr^{2}}}$"
      ],
      "text/plain": [
       "<Quantity [-27.91440236] AU2 / yr2>"
      ]
     },
     "execution_count": 19,
     "metadata": {},
     "output_type": "execute_result"
    }
   ],
   "source": [
    "ptmass.energy([1.,-1.,0.])"
   ]
  },
  {
   "cell_type": "code",
   "execution_count": 22,
   "metadata": {},
   "outputs": [
    {
     "data": {
      "text/latex": [
       "$[-27.914402,~-10.948929] \\; \\mathrm{\\frac{AU^{2}}{yr^{2}}}$"
      ],
      "text/plain": [
       "<Quantity [-27.91440236, -10.94892941] AU2 / yr2>"
      ]
     },
     "execution_count": 22,
     "metadata": {},
     "output_type": "execute_result"
    }
   ],
   "source": [
    "pos = np.array([[1.,-1.,0],[2.,3.,0]]).T\n",
    "ptmass.energy(pos*u.au)"
   ]
  },
  {
   "cell_type": "code",
   "execution_count": 23,
   "metadata": {},
   "outputs": [
    {
     "data": {
      "text/latex": [
       "$[[13.957201],~\n",
       " [-13.957201],~\n",
       " [0]] \\; \\mathrm{\\frac{AU}{yr^{2}}}$"
      ],
      "text/plain": [
       "<Quantity [[ 13.95720118],\n",
       "           [-13.95720118],\n",
       "           [  0.        ]] AU / yr2>"
      ]
     },
     "execution_count": 23,
     "metadata": {},
     "output_type": "execute_result"
    }
   ],
   "source": [
    "ptmass.gradient([1.,-1.,0]*u.au) "
   ]
  },
  {
   "cell_type": "code",
   "execution_count": 24,
   "metadata": {},
   "outputs": [
    {
     "data": {
      "text/latex": [
       "$[[-13.957201],~\n",
       " [13.957201],~\n",
       " [-0]] \\; \\mathrm{\\frac{AU}{yr^{2}}}$"
      ],
      "text/plain": [
       "<Quantity [[-13.95720118],\n",
       "           [ 13.95720118],\n",
       "           [ -0.        ]] AU / yr2>"
      ]
     },
     "execution_count": 24,
     "metadata": {},
     "output_type": "execute_result"
    }
   ],
   "source": [
    "ptmass.acceleration([1.,-1.,0]*u.au) "
   ]
  },
  {
   "cell_type": "code",
   "execution_count": 25,
   "metadata": {},
   "outputs": [],
   "source": [
    "pot = gp.HernquistPotential(m=1E9*u.Msun, c=1.*u.kpc, units=galactic)"
   ]
  },
  {
   "cell_type": "code",
   "execution_count": 26,
   "metadata": {},
   "outputs": [
    {
     "data": {
      "text/latex": [
       "$[7997938.8] \\; \\mathrm{\\frac{M_{\\odot}}{kpc^{3}}}$"
      ],
      "text/plain": [
       "<Quantity [7997938.82200887] solMass / kpc3>"
      ]
     },
     "execution_count": 26,
     "metadata": {},
     "output_type": "execute_result"
    }
   ],
   "source": [
    "pot.density([1.,-1.,0]*u.kpc) "
   ]
  },
  {
   "cell_type": "code",
   "execution_count": 27,
   "metadata": {},
   "outputs": [
    {
     "data": {
      "text/latex": [
       "$[[[-4.6818791 \\times 10^{-5}],~\n",
       "  [0.00059257862],~\n",
       "  [0]],~\n",
       "\n",
       " [[0.00059257862],~\n",
       "  [-4.6818791 \\times 10^{-5}],~\n",
       "  [0]],~\n",
       "\n",
       " [[0],~\n",
       "  [0],~\n",
       "  [0.00054575983]]] \\; \\mathrm{\\frac{1}{Myr^{2}}}$"
      ],
      "text/plain": [
       "<Quantity [[[-4.68187913e-05],\n",
       "            [ 5.92578618e-04],\n",
       "            [ 0.00000000e+00]],\n",
       "\n",
       "           [[ 5.92578618e-04],\n",
       "            [-4.68187913e-05],\n",
       "            [ 0.00000000e+00]],\n",
       "\n",
       "           [[ 0.00000000e+00],\n",
       "            [ 0.00000000e+00],\n",
       "            [ 5.45759827e-04]]] 1 / Myr2>"
      ]
     },
     "execution_count": 27,
     "metadata": {},
     "output_type": "execute_result"
    }
   ],
   "source": [
    "pot.hessian([1.,-1.,0]*u.kpc) "
   ]
  },
  {
   "cell_type": "code",
   "execution_count": 29,
   "metadata": {},
   "outputs": [
    {
     "data": {
      "text/plain": [
       "Text(0, 0.5, '$M(<r)$ [$\\\\mathrm{M_{\\\\odot}}$]')"
      ]
     },
     "execution_count": 29,
     "metadata": {},
     "output_type": "execute_result"
    },
    {
     "data": {
      "image/png": "[encoded data removed]",
      "text/plain": [
       "<Figure size 432x288 with 1 Axes>"
      ]
     },
     "metadata": {
      "needs_background": "light"
     },
     "output_type": "display_data"
    }
   ],
   "source": [
    "pot = gp.NFWPotential(m=1E11*u.Msun, r_s=20.*u.kpc, units=galactic)\n",
    "pos = np.zeros((3,100)) * u.kpc\n",
    "pos[0] = np.logspace(np.log10(20./100.), np.log10(20*100.), pos.shape[1]) * u.kpc\n",
    "m_profile = pot.mass_enclosed(pos)\n",
    "plt.loglog(pos[0], m_profile, marker='') \n",
    "plt.xlabel(\"$r$ [{}]\".format(pos.unit.to_string(format='latex'))) \n",
    "plt.ylabel(\"$M(<r)$ [{}]\".format(m_profile.unit.to_string(format='latex'))) "
   ]
  },
  {
   "cell_type": "code",
   "execution_count": 30,
   "metadata": {},
   "outputs": [
    {
     "data": {
      "text/plain": [
       "Text(0, 0.5, '$\\\\Phi(x,0,1)$ [$\\\\mathrm{\\\\frac{kpc^{2}}{Myr^{2}}}$]')"
      ]
     },
     "execution_count": 30,
     "metadata": {},
     "output_type": "execute_result"
    },
    {
     "data": {
      "image/png": "[encoded data removed]",
      "text/plain": [
       "<Figure size 432x288 with 1 Axes>"
      ]
     },
     "metadata": {
      "needs_background": "light"
     },
     "output_type": "display_data"
    }
   ],
   "source": [
    "p = gp.MiyamotoNagaiPotential(m=1E11, a=6.5, b=0.27, units=galactic)\n",
    "fig, ax = plt.subplots(1,1) \n",
    "p.plot_contours(grid=(np.linspace(-15,15,100), 0., 1.), marker='', ax=ax) \n",
    "E_unit = p.units['energy'] / p.units['mass']\n",
    "ax.set_xlabel(\"$x$ [{}]\".format(p.units['length'].to_string(format='latex'))) \n",
    "ax.set_ylabel(\"$\\Phi(x,0,1)$ [{}]\".format(E_unit.to_string(format='latex'))) "
   ]
  },
  {
   "cell_type": "code",
   "execution_count": 31,
   "metadata": {},
   "outputs": [
    {
     "data": {
      "text/plain": [
       "Text(0, 0.5, '$z$ [kpc]')"
      ]
     },
     "execution_count": 31,
     "metadata": {},
     "output_type": "execute_result"
    },
    {
     "data": {
      "image/png": "[encoded data removed]",
      "text/plain": [
       "<Figure size 864x288 with 1 Axes>"
      ]
     },
     "metadata": {
      "needs_background": "light"
     },
     "output_type": "display_data"
    }
   ],
   "source": [
    "fig,ax = plt.subplots(1, 1, figsize=(12,4))\n",
    "x = np.linspace(-15,15,100)\n",
    "z = np.linspace(-5,5,100)\n",
    "p.plot_contours(grid=(x, 1., z), ax=ax) \n",
    "ax.set_xlabel(\"$x$ [kpc]\") \n",
    "ax.set_ylabel(\"$z$ [kpc]\") "
   ]
  },
  {
   "cell_type": "code",
   "execution_count": 33,
   "metadata": {},
   "outputs": [
    {
     "data": {
      "text/plain": [
       "<NFWPotential: m=6.00e+11, r_s=20.00 (kpc,Myr,solMass,rad)>"
      ]
     },
     "execution_count": 33,
     "metadata": {},
     "output_type": "execute_result"
    }
   ],
   "source": [
    "from gala.potential import load\n",
    "pot = gp.NFWPotential(m=6E11*u.Msun, r_s=20.*u.kpc,units=galactic)\n",
    "pot.save(\"potential.yml\")\n",
    "load(\"potential.yml\")"
   ]
  },
  {
   "cell_type": "code",
   "execution_count": null,
   "metadata": {},
   "outputs": [],
   "source": []
  }
 ],
 "metadata": {
  "kernelspec": {
   "display_name": "Python 3",
   "language": "python",
   "name": "python3"
  },
  "language_info": {
   "codemirror_mode": {
    "name": "ipython",
    "version": 3
   },
   "file_extension": ".py",
   "mimetype": "text/x-python",
   "name": "python",
   "nbconvert_exporter": "python",
   "pygments_lexer": "ipython3",
   "version": "3.7.3"
  }
 },
 "nbformat": 4,
 "nbformat_minor": 2
}
